{
 "cells": [
  {
   "cell_type": "code",
   "execution_count": 1,
   "id": "72098882-6b40-4ea2-93c5-8796dc21985c",
   "metadata": {},
   "outputs": [
    {
     "name": "stdout",
     "output_type": "stream",
     "text": [
      "WARNING:tensorflow:From C:\\Users\\sachd\\AppData\\Local\\Programs\\Python\\Python312\\Lib\\site-packages\\tf_keras\\src\\losses.py:2976: The name tf.losses.sparse_softmax_cross_entropy is deprecated. Please use tf.compat.v1.losses.sparse_softmax_cross_entropy instead.\n",
      "\n"
     ]
    }
   ],
   "source": [
    "import cv2\n",
    "import requests\n",
    "import tensorflow as tf\n",
    "import numpy as np\n",
    "import tensorflow_hub as hub"
   ]
  },
  {
   "cell_type": "code",
   "execution_count": 2,
   "id": "ba405dd2-9876-4a52-9a53-972d10e7e4a4",
   "metadata": {},
   "outputs": [
    {
     "name": "stdout",
     "output_type": "stream",
     "text": [
      "WARNING:tensorflow:From C:\\Users\\sachd\\AppData\\Local\\Programs\\Python\\Python312\\Lib\\site-packages\\tensorflow_hub\\resolver.py:120: The name tf.gfile.MakeDirs is deprecated. Please use tf.io.gfile.makedirs instead.\n",
      "\n"
     ]
    },
    {
     "name": "stderr",
     "output_type": "stream",
     "text": [
      "WARNING:tensorflow:From C:\\Users\\sachd\\AppData\\Local\\Programs\\Python\\Python312\\Lib\\site-packages\\tensorflow_hub\\resolver.py:120: The name tf.gfile.MakeDirs is deprecated. Please use tf.io.gfile.makedirs instead.\n",
      "\n"
     ]
    },
    {
     "name": "stdout",
     "output_type": "stream",
     "text": [
      "WARNING:tensorflow:From C:\\Users\\sachd\\AppData\\Local\\Programs\\Python\\Python312\\Lib\\site-packages\\tensorflow_hub\\module_v2.py:126: The name tf.saved_model.load_v2 is deprecated. Please use tf.compat.v2.saved_model.load instead.\n",
      "\n"
     ]
    },
    {
     "name": "stderr",
     "output_type": "stream",
     "text": [
      "WARNING:tensorflow:From C:\\Users\\sachd\\AppData\\Local\\Programs\\Python\\Python312\\Lib\\site-packages\\tensorflow_hub\\module_v2.py:126: The name tf.saved_model.load_v2 is deprecated. Please use tf.compat.v2.saved_model.load instead.\n",
      "\n"
     ]
    }
   ],
   "source": [
    "# Pre-trained object detection model\n",
    "detector = hub.load(\"https://tfhub.dev/tensorflow/efficientdet/lite2/detection/1\")"
   ]
  },
  {
   "cell_type": "code",
   "execution_count": 3,
   "id": "1c7651e5-7aa0-4682-9393-74d145f1ba82",
   "metadata": {},
   "outputs": [],
   "source": [
    "class_to_ingredient = {\n",
    "    1: \"tomato\",\n",
    "    2: \"onion\",\n",
    "    3: \"potato\",\n",
    "    4: \"garlic\",\n",
    "    5: \"ginger\",\n",
    "    6: \"green chili\",\n",
    "    7: \"coriander leaves (cilantro)\",\n",
    "    8: \"mint leaves\",\n",
    "    9: \"curry leaves\",\n",
    "    10: \"spinach (palak)\",\n",
    "    11: \"paneer\",\n",
    "    12: \"cumin seeds\",\n",
    "    13: \"mustard seeds\",\n",
    "    14: \"turmeric powder\",\n",
    "    15: \"red chili powder\",\n",
    "    16: \"garam masala\",\n",
    "    17: \"coriander powder\",\n",
    "    18: \"fennel seeds\",\n",
    "    19: \"fenugreek seeds\",\n",
    "    20: \"cardamom\",\n",
    "    21: \"cloves\",\n",
    "    22: \"cinnamon\",\n",
    "    23: \"bay leaves\",\n",
    "    24: \"asafoetida (hing)\",\n",
    "    25: \"ghee\",\n",
    "    26: \"rice\",\n",
    "    27: \"wheat flour\",\n",
    "    28: \"biryani masala\",\n",
    "    29: \"chicken\",\n",
    "    30: \"mutton\",\n",
    "    31: \"fish\",\n",
    "    32: \"eggs\",\n",
    "    33: \"chana dal\",\n",
    "    34: \"toor dal\",\n",
    "    35: \"moong dal\",\n",
    "    36: \"masoor dal\",\n",
    "    37: \"urad dal\",\n",
    "    38: \"coconut\",\n",
    "    39: \"coconut milk\",\n",
    "    40: \"jaggery\",\n",
    "    41: \"tamarind\",\n",
    "    42: \"lemon\",\n",
    "    43: \"yogurt (curd)\",\n",
    "    44: \"buttermilk\",\n",
    "    45: \"milk\",\n",
    "    46: \"cream\",\n",
    "    47: \"cashews\",\n",
    "    48: \"almonds\",\n",
    "    49: \"raisins\",\n",
    "    50: \"bitter gourd (karela)\",\n",
    "    51: \"brinjal (eggplant)\",\n",
    "    52: \"cauliflower\",\n",
    "    53: \"capsicum (bell pepper)\",\n",
    "    54: \"ladyfinger (okra)\",\n",
    "    55: \"cabbage\",\n",
    "    56: \"carrot\",\n",
    "    57: \"green peas\",\n",
    "    58: \"methi leaves (fenugreek)\",\n",
    "    59: \"mooli (radish)\",\n",
    "    60: \"gourd (lauki)\",\n",
    "    61: \"pumpkin\",\n",
    "    62: \"kala chana (black chickpeas)\",\n",
    "    63: \"rajma (kidney beans)\",\n",
    "    64: \"black gram (urad dal whole)\",\n",
    "    65: \"poha (flattened rice)\",\n",
    "    66: \"sooji (semolina)\",\n",
    "    67: \"besan (gram flour)\",\n",
    "    68: \"sabudana (tapioca pearls)\",\n",
    "    69: \"mustard oil\",\n",
    "    70: \"vegetable oil\",\n",
    "    71: \"saffron\",\n",
    "    72: \"poppy seeds\",\n",
    "    73: \"whole wheat\",\n",
    "    74: \"puffed rice\",\n",
    "    75: \"pickle\",\n",
    "    76: \"papad\",\n",
    "    77: \"jowar\",\n",
    "    78: \"bajra\",\n",
    "    79: \"amchur (dried mango powder)\",\n",
    "    80: \"khoya\",\n",
    "    81: \"makhana (fox nuts)\",\n",
    "    82: \"tandoori masala\",\n",
    "    83: \"chaat masala\",\n",
    "    84: \"pav bhaji masala\",\n",
    "    85: \"sambar powder\",\n",
    "    86: \"rasam powder\",\n",
    "    87: \"idli rice\",\n",
    "    88: \"black salt\",\n",
    "    89: \"kasuri methi (dried fenugreek leaves)\",\n",
    "    90: \"imli (tamarind)\",\n",
    "    91: \"soya chunks\",\n",
    "    92: \"gond (edible gum)\",\n",
    "    93: \"badam (almond)\",\n",
    "    94: \"kaju (cashew)\",\n",
    "    95: \"dahi (curd)\"\n",
    "}\n"
   ]
  },
  {
   "cell_type": "code",
   "execution_count": 4,
   "id": "db41f5e7-c826-4fe8-9483-a12cf78e3310",
   "metadata": {},
   "outputs": [],
   "source": [
    "def capture_image():\n",
    "    # Access webcam\n",
    "    cap = cv2.VideoCapture(0)  # 0 is usually the primary webcam\n",
    "\n",
    "    while True:\n",
    "        ret, frame = cap.read()\n",
    "        if ret:\n",
    "            # Show the frame\n",
    "            cv2.imshow('Capture Image', frame)\n",
    "            \n",
    "            # Press 's' to save the captured image\n",
    "            if cv2.waitKey(1) & 0xFF == ord('s'):\n",
    "                img_name = \"captured_image.jpg\"\n",
    "                cv2.imwrite(img_name, frame)\n",
    "                print(f\"Image saved as {img_name}\")\n",
    "                break\n",
    "\n",
    "    cap.release()\n",
    "    cv2.destroyAllWindows()\n",
    "\n",
    "    return img_name"
   ]
  },
  {
   "cell_type": "code",
   "execution_count": 5,
   "id": "d208be43-4c0b-47c0-abb6-8ace81be0c50",
   "metadata": {},
   "outputs": [],
   "source": [
    "def detect_ingredients(image_path):\n",
    "    # Load and preprocess image\n",
    "    image = cv2.imread(image_path)\n",
    "    image_rgb = cv2.cvtColor(image, cv2.COLOR_BGR2RGB)\n",
    "    image_resized = tf.image.resize(image_rgb, (512, 512))\n",
    "    image_resized = np.expand_dims(image_resized, axis=0)\n",
    "    \n",
    "    # Detect objects\n",
    "    detections = detector(image_resized)\n",
    "    \n",
    "    # Extract detection classes and confidence scores\n",
    "    class_ids = detections['detection_classes'][0].numpy().astype(int)\n",
    "    scores = detections['detection_scores'][0].numpy()\n",
    "    # Filter detected ingredients by a confidence threshold\n",
    "    threshold = 0.5\n",
    "    detected_ingredients = [class_to_ingredient[c] for c, s in zip(class_ids, scores) if s > threshold]\n",
    "    \n",
    "    return detected_ingredients"
   ]
  },
  {
   "cell_type": "code",
   "execution_count": 6,
   "id": "cd70b426-a7e2-4b5c-b558-2ef6f7b11d7d",
   "metadata": {},
   "outputs": [],
   "source": [
    "def get_recipes(ingredients):\n",
    "    api_key = '7e5a62c0114144bebabeefcdaacc68ac'  \n",
    "    url = f\"https://api.spoonacular.com/recipes/findByIngredients?ingredients={','.join(ingredients)}&number=5&apiKey={api_key}\"\n",
    "    response = requests.get(url)\n",
    "    \n",
    "    if response.status_code == 200:\n",
    "        data = response.json()\n",
    "        recipes = [recipe['title'] for recipe in data]\n",
    "        return recipes\n",
    "    else:\n",
    "        print(\"Error fetching recipes from API:\", response.status_code)\n",
    "        return []"
   ]
  },
  {
   "cell_type": "code",
   "execution_count": null,
   "id": "6ab053a9-dccb-497d-919a-1d9c985c5bb6",
   "metadata": {},
   "outputs": [],
   "source": [
    "# Capture image from webcam\n",
    "image_path = capture_image()\n",
    "\n",
    "# Detect ingredients from the captured image\n",
    "detected_ingredients = detect_ingredients(image_path)\n",
    "\n",
    "if detected_ingredients:\n",
    "    print(\"Detected Ingredients:\", detected_ingredients)\n",
    "    \n",
    "    # Fetch recipes based on detected ingredients\n",
    "    recipes = get_recipes(detected_ingredients)\n",
    "    \n",
    "    if recipes:\n",
    "        print(\"\\nHere are some recipe suggestions based on your ingredients:\")\n",
    "        for i, recipe in enumerate(recipes, 1):\n",
    "            print(f\"{i}. {recipe}\")\n",
    "    else:\n",
    "        print(\"No recipes found.\")\n",
    "else:\n",
    "    print(\"No ingredients detected in the image.\")"
   ]
  },
  {
   "cell_type": "code",
   "execution_count": null,
   "id": "4642226f-c1cf-4f14-bc39-6726acc92605",
   "metadata": {},
   "outputs": [],
   "source": [
    "# Assume 'image' is captured from the camera and preprocessed\n",
    "prediction = model.predict(image)\n",
    "print(\"Predicted Ingredient:\", class_to_ingredient[np.argmax(prediction)])"
   ]
  },
  {
   "cell_type": "code",
   "execution_count": null,
   "id": "4e432832-4521-4a5f-8288-e3942d28f3bb",
   "metadata": {},
   "outputs": [],
   "source": []
  }
 ],
 "metadata": {
  "kernelspec": {
   "display_name": "Python 3 (ipykernel)",
   "language": "python",
   "name": "python3"
  },
  "language_info": {
   "codemirror_mode": {
    "name": "ipython",
    "version": 3
   },
   "file_extension": ".py",
   "mimetype": "text/x-python",
   "name": "python",
   "nbconvert_exporter": "python",
   "pygments_lexer": "ipython3",
   "version": "3.12.4"
  }
 },
 "nbformat": 4,
 "nbformat_minor": 5
}
